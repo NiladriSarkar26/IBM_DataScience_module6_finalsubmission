{
 "cells": [
  {
   "cell_type": "markdown",
   "id": "2e6119b1",
   "metadata": {},
   "source": [
    "# Data Science Tools and Ecosystem"
   ]
  },
  {
   "cell_type": "markdown",
   "id": "91790fb5",
   "metadata": {},
   "source": [
    "In this notebook, we summarize some of the essential tools, libraries, and languages used in the field of data science."
   ]
  },
  {
   "cell_type": "markdown",
   "id": "42ddd4ad",
   "metadata": {},
   "source": [
    "## Some of the popular languages that Data Scientists use are:\n",
    "\n",
    "1. Python  \n",
    "2. R  \n",
    "3. SQL  \n",
    "4. Julia  \n",
    "5. Scala"
   ]
  },
  {
   "cell_type": "markdown",
   "id": "9e93fbc8",
   "metadata": {},
   "source": [
    "## Commonly used libraries used by Data Scientists include:\n",
    "\n",
    "- Pandas  \n",
    "- NumPy  \n",
    "- Matplotlib  \n",
    "- Scikit-learn  \n",
    "- TensorFlow  \n",
    "- ggplot2 (for R)"
   ]
  },
  {
   "cell_type": "markdown",
   "id": "3a26edd4",
   "metadata": {},
   "source": [
    "## Data Science Tools\n",
    "\n",
    "| Category | Tool          |\n",
    "|----------|---------------|\n",
    "| IDE      | JupyterLab    |\n",
    "| IDE      | RStudio       |\n",
    "| Cloud    | Apache Zeppelin |\n",
    "| Notebook | JupyterLite   |"
   ]
  },
  {
   "cell_type": "markdown",
   "id": "93a9ca75",
   "metadata": {},
   "source": [
    "### Below are a few examples of evaluating arithmetic expressions in Python."
   ]
  },
  {
   "cell_type": "code",
   "execution_count": null,
   "id": "9c7be6c2",
   "metadata": {},
   "outputs": [],
   "source": [
    "# This is a simple arithmetic expression to multiply then add numbers\n",
    "(3 * 4) + 5"
   ]
  },
  {
   "cell_type": "code",
   "execution_count": null,
   "id": "7a0809e5",
   "metadata": {},
   "outputs": [],
   "source": [
    "# This will convert 200 minutes to hours by dividing by 60\n",
    "200 / 60"
   ]
  },
  {
   "cell_type": "markdown",
   "id": "b2e978aa",
   "metadata": {},
   "source": [
    "## Objectives\n",
    "\n",
    "- List popular languages for Data Science  \n",
    "- List commonly used libraries in Data Science  \n",
    "- Create tables in markdown  \n",
    "- Perform arithmetic operations using code cells"
   ]
  },
  {
   "cell_type": "markdown",
   "id": "148efb80",
   "metadata": {},
   "source": [
    "## Author  \n",
    "Niladri Sarkar"
   ]
  },
  {
   "cell_type": "markdown",
   "id": "ba364fef",
   "metadata": {},
   "source": [
    "### GitHub Link  \n",
    "[Click here to view the notebook][https://github.com/NiladriSarkar26/IBM_DataScience_module6_finalsubmission]"
   ]
  }
 ],
 "metadata": {},
 "nbformat": 4,
 "nbformat_minor": 5
}
